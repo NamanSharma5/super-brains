{
 "cells": [
  {
   "cell_type": "code",
   "execution_count": 1,
   "metadata": {},
   "outputs": [],
   "source": [
    "from preprocessing import *\n",
    "from sklearn.model_selection import KFold\n",
    "import argparse\n",
    "from model import *\n",
    "from train import test\n",
    "import torch.optim as optim\n",
    "import pandas as pd\n",
    "\n",
    "from MatrixVectorizer import *\n",
    "import networkx as nx\n",
    "from typing import Union\n"
   ]
  },
  {
   "cell_type": "code",
   "execution_count": 2,
   "metadata": {},
   "outputs": [],
   "source": [
    "# load csvs as numpy\n",
    "lr_data_path = '../data/lr_train.csv'\n",
    "hr_data_path = '../data/hr_train.csv'\n",
    "\n",
    "lr_train_data = pd.read_csv(lr_data_path, delimiter=',').to_numpy()\n",
    "hr_train_data = pd.read_csv(hr_data_path, delimiter=',').to_numpy()\n",
    "lr_train_data[lr_train_data < 0] = 0\n",
    "np.nan_to_num(lr_train_data, copy=False)\n",
    "\n",
    "hr_train_data[hr_train_data < 0] = 0\n",
    "np.nan_to_num(hr_train_data, copy=False)\n",
    "\n",
    "# map the anti-vectorize function to each row of the lr_train_data\n",
    "\n",
    "lr_train_data_vectorized = np.array([MatrixVectorizer.anti_vectorize(row, 160) for row in lr_train_data])\n",
    "hr_train_data_vectorized = np.array([MatrixVectorizer.anti_vectorize(row, 268) for row in hr_train_data])\n",
    "\n",
    "num_samples = hr_train_data_vectorized.shape[0]\n",
    "num_samples_list = range(num_samples)\n",
    "sample_to_index = dict(zip(num_samples_list, hr_train_data_vectorized))\n",
    "\n",
    "split = int(num_samples * 0.8)"
   ]
  },
  {
   "cell_type": "code",
   "execution_count": 3,
   "metadata": {},
   "outputs": [],
   "source": [
    "\n",
    "subjects_adj,subjects_labels = lr_train_data_vectorized[:split], hr_train_data_vectorized[:split]\n",
    "\n",
    "held_out_subjects_adj,held_out_subjects_labels = lr_train_data_vectorized[split:], hr_train_data_vectorized[split:]"
   ]
  },
  {
   "cell_type": "code",
   "execution_count": 4,
   "metadata": {},
   "outputs": [],
   "source": [
    "num_splt = 3\n",
    "epochs = 50\n",
    "lr = 0.00005 # try [0.0001, 0.0005, 0.00001, 0.00005]\n",
    "lmbda = 17 # should be around 15-20\n",
    "lamdba_topo = 1 # should be around 0.5-1.5\n",
    "lr_dim = 160\n",
    "hr_dim = 320\n",
    "hidden_dim = 320 # try smaller and larger - [160-512]\n",
    "padding = 26\n",
    "dropout = 0.1 # try [0., 0.1, 0.2, 0.3]\n",
    "args = argparse.Namespace()\n",
    "args.epochs = epochs\n",
    "args.lr = lr\n",
    "args.lmbda = lmbda\n",
    "args.lr_dim = lr_dim\n",
    "args.hr_dim = hr_dim\n",
    "args.hidden_dim = hidden_dim\n",
    "args.padding = padding\n",
    "args.p = dropout\n"
   ]
  },
  {
   "cell_type": "code",
   "execution_count": 5,
   "metadata": {},
   "outputs": [],
   "source": [
    "cv = KFold(n_splits=3, random_state=42, shuffle=True)"
   ]
  },
  {
   "cell_type": "code",
   "execution_count": 6,
   "metadata": {},
   "outputs": [],
   "source": [
    "ks = [0.9, 0.7, 0.6, 0.5]\n",
    "model = GSRNet(ks, args)"
   ]
  },
  {
   "cell_type": "code",
   "execution_count": 7,
   "metadata": {},
   "outputs": [],
   "source": [
    "# precompute topological measures for hr_train_data_vectorized\n",
    "# precomputed_measures = precompute_topological_measures(hr_train_data_vectorized)"
   ]
  },
  {
   "cell_type": "code",
   "execution_count": 8,
   "metadata": {},
   "outputs": [],
   "source": [
    "import time\n",
    "criterion = nn.L1Loss()\n",
    "\n",
    "def train(model, optimizer, subjects_adj,subjects_labels, args): \n",
    "  #, subjects_adj_test, subjects_ground_truth_test):\n",
    "  \n",
    "  all_epochs_loss = []\n",
    "  no_epochs = args.epochs\n",
    "\n",
    "  for epoch in range(no_epochs):\n",
    "    epoch_loss = []\n",
    "    epoch_error = []\n",
    "    epoch_topo = []\n",
    "\n",
    "    model.train()\n",
    "    for index,(lr,hr) in enumerate(zip(subjects_adj,subjects_labels)):      \n",
    "      lr = torch.from_numpy(lr).type(torch.FloatTensor)\n",
    "      hr = torch.from_numpy(hr).type(torch.FloatTensor)\n",
    "\n",
    "      model_outputs,net_outs,start_gcn_outs,layer_outs = model(lr)\n",
    "      model_outputs  = unpad(model_outputs, args.padding)\n",
    "\n",
    "      padded_hr = pad_HR_adj(hr,args.padding)\n",
    "      eig_val_hr, U_hr = torch.linalg.eigh(padded_hr, UPLO='U')\n",
    "\n",
    "      loss = args.lmbda * criterion(net_outs, start_gcn_outs) + criterion(model.layer.weights,U_hr) + criterion(model_outputs, hr) \n",
    "      start_time = time.time()\n",
    "\n",
    "      topo = args.lamdba_topo * compute_topological_MAE_loss(hr, model_outputs)\n",
    "\n",
    "      error = criterion(model_outputs, hr)\n",
    "      \n",
    "      optimizer.zero_grad()\n",
    "      loss.backward()\n",
    "      optimizer.step()\n",
    "\n",
    "      epoch_loss.append(loss.item())\n",
    "      epoch_error.append(error.item())\n",
    "      epoch_topo.append(topo.item())\n",
    "      \n",
    "  \n",
    "    model.eval()\n",
    "    print(\"Epoch: \",epoch+1, \"Loss: \", np.mean(epoch_loss), \"Error: \", np.mean(epoch_error),\n",
    "          \"Topo: \", np.mean(epoch_topo))\n",
    "    all_epochs_loss.append(np.mean(epoch_loss))"
   ]
  },
  {
   "cell_type": "code",
   "execution_count": 9,
   "metadata": {},
   "outputs": [],
   "source": [
    "# # print(model)\n",
    "# optimizer = optim.Adam(model.parameters(), lr=args.lr)\n",
    "# # optimizer = optim.SGD(model.parameters(), lr=args.lr)\n",
    "\n",
    "# for train_index, test_index in cv.split(subjects_adj):\n",
    "#     subjects_adj_train = subjects_adj[train_index]  # Get training data \n",
    "#     subjects_adj_test = subjects_adj[test_index]   # Get testing data \n",
    "#     subjects_ground_truth_train = subjects_labels[train_index]\n",
    "#     subjects_ground_truth_test = subjects_labels[test_index]\n",
    "\n",
    "#     train(model, optimizer, subjects_adj_train, subjects_ground_truth_train, args, subjects_adj_test, subjects_ground_truth_test)\n",
    "    \n",
    "#     print('Held out test score:')\n",
    "#     test(model, held_out_subjects_adj, held_out_subjects_labels, args)\n",
    "#     print('------------------------------')"
   ]
  },
  {
   "cell_type": "markdown",
   "metadata": {},
   "source": [
    "# Final Model & Kaggle Submission"
   ]
  },
  {
   "cell_type": "code",
   "execution_count": 10,
   "metadata": {},
   "outputs": [
    {
     "name": "stdout",
     "output_type": "stream",
     "text": [
      "Epoch:  1 Loss:  5.750217312110398 Error:  0.24174252429051313 Topo:  56.494220973488815\n",
      "Epoch:  2 Loss:  4.644323122001694 Error:  0.21155612670375915 Topo:  38.04522014092542\n",
      "Epoch:  3 Loss:  4.265881241438631 Error:  0.2021683175228313 Topo:  32.09554512914783\n",
      "Epoch:  4 Loss:  4.006610543428067 Error:  0.19598122869066137 Topo:  28.440001990266904\n",
      "Epoch:  5 Loss:  3.8055684595050927 Error:  0.1935964972673062 Topo:  27.180524888866675\n",
      "Epoch:  6 Loss:  3.6367760960927265 Error:  0.19193236494135713 Topo:  26.311932106931767\n",
      "Epoch:  7 Loss:  3.488994397089153 Error:  0.1904636861499912 Topo:  25.598259189171706\n",
      "Epoch:  8 Loss:  3.3557335745074792 Error:  0.1891832515865029 Topo:  25.002406971183365\n",
      "Epoch:  9 Loss:  3.2329834506897157 Error:  0.18738922565997004 Topo:  24.30307106771869\n",
      "Epoch:  10 Loss:  3.118971824645996 Error:  0.186167123431931 Topo:  23.79939566972013\n",
      "Epoch:  11 Loss:  3.011815520817648 Error:  0.18534923019166477 Topo:  23.46538637355416\n",
      "Epoch:  12 Loss:  2.909726953792001 Error:  0.18437682859554977 Topo:  22.992952009874905\n",
      "Epoch:  13 Loss:  2.8119802881857594 Error:  0.18362018903215488 Topo:  22.6878966999625\n",
      "Epoch:  14 Loss:  2.717428244516521 Error:  0.1827272584516845 Topo:  22.292421392338003\n",
      "Epoch:  15 Loss:  2.625896886437239 Error:  0.1821044658472438 Topo:  22.02471042107679\n",
      "Epoch:  16 Loss:  2.536828831284346 Error:  0.1815001631746749 Topo:  21.76133036470699\n",
      "Epoch:  17 Loss:  2.449335901323193 Error:  0.18068909439854994 Topo:  21.44698355440608\n",
      "Epoch:  18 Loss:  2.363779567672821 Error:  0.1801714328770152 Topo:  21.187579343418875\n",
      "Epoch:  19 Loss:  2.279870038260957 Error:  0.17993677884875658 Topo:  21.096297138465378\n",
      "Epoch:  20 Loss:  2.1970072549260307 Error:  0.17965733755134536 Topo:  21.008903891740445\n",
      "Epoch:  21 Loss:  2.115114389065497 Error:  0.17941059198922027 Topo:  20.89775739315741\n",
      "Epoch:  22 Loss:  2.0340567855777856 Error:  0.17923152785815163 Topo:  20.844877756998212\n",
      "Epoch:  23 Loss:  1.9535955126414042 Error:  0.17900061428903818 Topo:  20.75967298724694\n",
      "Epoch:  24 Loss:  1.8735673406166944 Error:  0.17872022984627478 Topo:  20.66615089827669\n",
      "Epoch:  25 Loss:  1.7942154650202768 Error:  0.17849898463237784 Topo:  20.577748846864985\n",
      "Epoch:  26 Loss:  1.7150388392145761 Error:  0.17822657659382163 Topo:  20.474255510432993\n",
      "Epoch:  27 Loss:  1.636398346124295 Error:  0.1780621244343455 Topo:  20.44499240235654\n",
      "Epoch:  28 Loss:  1.5578361913829506 Error:  0.17785359651385668 Topo:  20.392701691496157\n",
      "Epoch:  29 Loss:  1.4796366420334686 Error:  0.1776175037651005 Topo:  20.315416159030207\n",
      "Epoch:  30 Loss:  1.401665167180364 Error:  0.17739571050969427 Topo:  20.22633394366967\n",
      "Epoch:  31 Loss:  1.3239820710199321 Error:  0.17721600143495433 Topo:  20.160635045902456\n",
      "Epoch:  32 Loss:  1.246606742550513 Error:  0.17711050442592827 Topo:  20.140633137640126\n",
      "Epoch:  33 Loss:  1.1695146549961524 Error:  0.17698351896094705 Topo:  20.096903835228105\n",
      "Epoch:  34 Loss:  1.092826053054033 Error:  0.17679397181836431 Topo:  20.012738290661108\n",
      "Epoch:  35 Loss:  1.0165951633881667 Error:  0.176549903200772 Topo:  19.947375177623268\n",
      "Epoch:  36 Loss:  0.940996422382172 Error:  0.17632183200584914 Topo:  19.851119229893484\n",
      "Epoch:  37 Loss:  0.8665705740808727 Error:  0.17613867148310838 Topo:  19.800011800434774\n",
      "Epoch:  38 Loss:  0.7934114254877239 Error:  0.17606436902891376 Topo:  19.775139991394774\n",
      "Epoch:  39 Loss:  0.7218769456812008 Error:  0.17592739907210458 Topo:  19.7142102075908\n",
      "Epoch:  40 Loss:  0.6528092537097588 Error:  0.17581679176784562 Topo:  19.675124670930966\n",
      "Epoch:  41 Loss:  0.5869614153565047 Error:  0.17575432913389036 Topo:  19.650407962456434\n",
      "Epoch:  42 Loss:  0.5256042230628921 Error:  0.1756390611568611 Topo:  19.59554888673885\n",
      "Epoch:  43 Loss:  0.46996921925487634 Error:  0.1754965830348923 Topo:  19.515248075930657\n",
      "Epoch:  44 Loss:  0.4213503044165537 Error:  0.1753879532128751 Topo:  19.485735824722017\n",
      "Epoch:  45 Loss:  0.380481085555996 Error:  0.17537131985861384 Topo:  19.470082408653763\n",
      "Epoch:  46 Loss:  0.34769512936026753 Error:  0.17517195740145838 Topo:  19.363058010261216\n",
      "Epoch:  47 Loss:  0.3222001346642386 Error:  0.17495288258184216 Topo:  19.246345816972013\n",
      "Epoch:  48 Loss:  0.3034002133115323 Error:  0.17482324622705311 Topo:  19.17740366130532\n",
      "Epoch:  49 Loss:  0.2892085065741739 Error:  0.17467368050606666 Topo:  19.080762120777976\n",
      "Epoch:  50 Loss:  0.2778572390179434 Error:  0.17444716313641942 Topo:  18.948700864871817\n"
     ]
    }
   ],
   "source": [
    "#final train\n",
    "final_model = GSRNet(ks, args)\n",
    "optimizer = optim.Adam(final_model.parameters(), lr=args.lr)\n",
    "\n",
    "train(final_model, optimizer, lr_train_data_vectorized, hr_train_data_vectorized, args)"
   ]
  },
  {
   "cell_type": "code",
   "execution_count": 11,
   "metadata": {},
   "outputs": [
    {
     "name": "stdout",
     "output_type": "stream",
     "text": [
      "(112, 12720)\n",
      "(112, 160, 160)\n"
     ]
    }
   ],
   "source": [
    "#Generate submission \n",
    "\n",
    "# load csvs as numpy\n",
    "test_lr_data_path = '../data/lr_test.csv'\n",
    "\n",
    "# lr_test_data = np.loadtxt(test_lr_data_path, delimiter=',')\n",
    "lr_test_data = pd.read_csv(test_lr_data_path, delimiter=',').to_numpy()\n",
    "print(lr_test_data.shape)\n",
    "lr_test_data[lr_test_data < 0] = 0\n",
    "np.nan_to_num(lr_test_data, copy=False)\n",
    "\n",
    "\n",
    "# map the anti-vectorize function to each row of the lr_train_data\n",
    "\n",
    "lr_test_data_vectorized = np.array([MatrixVectorizer.anti_vectorize(row, 160) for row in lr_test_data])\n",
    "print(lr_test_data_vectorized.shape)"
   ]
  },
  {
   "cell_type": "code",
   "execution_count": 12,
   "metadata": {},
   "outputs": [
    {
     "name": "stdout",
     "output_type": "stream",
     "text": [
      "112 (35778,)\n",
      "(4007136,)\n"
     ]
    }
   ],
   "source": [
    "final_model.eval()\n",
    "preds = []\n",
    "for lr in lr_test_data_vectorized:      \n",
    "  lr = torch.from_numpy(lr).type(torch.FloatTensor)\n",
    "  \n",
    "  model_outputs, _, _, _ = final_model(lr)\n",
    "  model_outputs  = unpad(model_outputs, args.padding)\n",
    "  preds.append(MatrixVectorizer.vectorize(model_outputs.detach().numpy()))\n",
    "\n",
    "print(len(preds), preds[0].shape)\n",
    "r = np.hstack(preds)\n",
    "print(r.shape)\n",
    "meltedDF = r.flatten()"
   ]
  },
  {
   "cell_type": "code",
   "execution_count": 13,
   "metadata": {},
   "outputs": [],
   "source": [
    "n = meltedDF.shape[0]\n",
    "df = pd.DataFrame({'ID': np.arange(1, n+1),\n",
    "                   'Predicted': meltedDF})\n",
    "df.to_csv('submission.csv', index=False)"
   ]
  }
 ],
 "metadata": {
  "kernelspec": {
   "display_name": ".venv",
   "language": "python",
   "name": "python3"
  },
  "language_info": {
   "codemirror_mode": {
    "name": "ipython",
    "version": 3
   },
   "file_extension": ".py",
   "mimetype": "text/x-python",
   "name": "python",
   "nbconvert_exporter": "python",
   "pygments_lexer": "ipython3",
   "version": "3.10.0"
  }
 },
 "nbformat": 4,
 "nbformat_minor": 2
}
