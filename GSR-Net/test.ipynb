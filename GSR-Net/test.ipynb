{
 "cells": [
  {
   "cell_type": "code",
   "execution_count": 1,
   "metadata": {},
   "outputs": [],
   "source": [
    "import preprocessing\n",
    "from sklearn.model_selection import KFold\n",
    "import argparse\n",
    "from model import *\n",
    "from train import *\n",
    "import torch.optim as optim\n"
   ]
  },
  {
   "cell_type": "code",
   "execution_count": 2,
   "metadata": {},
   "outputs": [
    {
     "name": "stderr",
     "output_type": "stream",
     "text": [
      "/vol/biomedic3/bglocker/ugproj2324/nns20/y4/DGL/super-brains/GSR-Net/preprocessing.py:41: RuntimeWarning: Mean of empty slice\n",
      "  col_mean = np.nanmean(roi, axis=0)\n"
     ]
    }
   ],
   "source": [
    "subjects_adj_before,subjects_labels_before = preprocessing.load_data(25629,25830)"
   ]
  },
  {
   "cell_type": "code",
   "execution_count": 3,
   "metadata": {},
   "outputs": [],
   "source": [
    "subjects_adj, subjects_labels, test_adj, test_labels = preprocessing.data()"
   ]
  },
  {
   "cell_type": "code",
   "execution_count": 4,
   "metadata": {},
   "outputs": [
    {
     "name": "stdout",
     "output_type": "stream",
     "text": [
      "The adjacency matrix before and after preprocessing is the same?\n"
     ]
    }
   ],
   "source": [
    "# compare the adjacency matrix before and after preprocessing\n",
    "if subjects_adj_before.all() == subjects_adj.all():\n",
    "    print(\"The adjacency matrix before and after preprocessing is the same?\")\n"
   ]
  },
  {
   "cell_type": "code",
   "execution_count": 10,
   "metadata": {},
   "outputs": [],
   "source": [
    "num_splt = 5\n",
    "epochs = 200\n",
    "lr = 0.0001\n",
    "lmbda = 16\n",
    "lr_dim = 160\n",
    "hr_dim = 320\n",
    "hidden_dim = 320\n",
    "padding = 26\n",
    "\n",
    "args = argparse.Namespace()\n",
    "args.epochs = epochs\n",
    "args.lr = lr\n",
    "args.lmbda = lmbda\n",
    "args.lr_dim = lr_dim\n",
    "args.hr_dim = hr_dim\n",
    "args.hidden_dim = hidden_dim\n",
    "args.padding = padding\n"
   ]
  },
  {
   "cell_type": "code",
   "execution_count": 11,
   "metadata": {},
   "outputs": [],
   "source": [
    "cv = KFold(n_splits=5, random_state=42, shuffle=True)"
   ]
  },
  {
   "cell_type": "code",
   "execution_count": 12,
   "metadata": {},
   "outputs": [],
   "source": [
    "# ks = [0]\n",
    "ks = [0.9, 0.7, 0.6, 0.5]\n",
    "model = GSRNet(ks, args)"
   ]
  },
  {
   "cell_type": "code",
   "execution_count": 26,
   "metadata": {},
   "outputs": [],
   "source": [
    "criterion = nn.MSELoss()\n",
    "\n",
    "def train(model, optimizer, subjects_adj,subjects_labels, args):\n",
    "  \n",
    "  i = 0\n",
    "  all_epochs_loss = []\n",
    "  no_epochs = args.epochs\n",
    "\n",
    "  for epoch in range(no_epochs):\n",
    "      epoch_loss = []\n",
    "      epoch_error = []\n",
    "\n",
    "      for lr,hr in zip(subjects_adj,subjects_labels):\n",
    "\n",
    "        model.train()\n",
    "        optimizer.zero_grad()\n",
    "        \n",
    "        lr = torch.from_numpy(lr).type(torch.FloatTensor)\n",
    "        hr = torch.from_numpy(hr).type(torch.FloatTensor)\n",
    "        \n",
    "        model_outputs,net_outs,start_gcn_outs,layer_outs = model(lr)\n",
    "        model_outputs  = unpad(model_outputs, args.padding)\n",
    "\n",
    "        padded_hr = pad_HR_adj(hr,args.padding)\n",
    "        # eig_val_hr, U_hr = torch.symeig(padded_hr, eigenvectors=True,upper=True) # deprecated\n",
    "        eig_val_hr, U_hr = torch.linalg.eigh(hr, UPLO='U')\n",
    "\n",
    "        # print the shapes of the outputs\n",
    "        # print(f\"{net_outs.shape} ; {start_gcn_outs.shape}\")\n",
    "        # print(f\"{model.layer.weights.shape} ; {U_hr.shape}\")\n",
    "        # print(f\"{model_outputs.shape} ; {hr.shape}\")\n",
    "        \n",
    "        # loss = args.lmbda * criterion(net_outs, start_gcn_outs) + criterion(model.layer.weights,U_hr) + criterion(model_outputs, hr) \n",
    "        loss = args.lmbda * criterion(net_outs, start_gcn_outs)+ criterion(model_outputs, hr) \n",
    "        \n",
    "        error = criterion(model_outputs, hr)\n",
    "        \n",
    "        loss.backward()\n",
    "        optimizer.step()\n",
    "\n",
    "        epoch_loss.append(loss.item())\n",
    "        epoch_error.append(error.item())\n",
    "      \n",
    "      i+=1\n",
    "      print(\"Epoch: \",i, \"Loss: \", np.mean(epoch_loss), \"Error: \", np.mean(epoch_error)*100,\"%\")\n",
    "      all_epochs_loss.append(np.mean(epoch_loss))"
   ]
  },
  {
   "cell_type": "code",
   "execution_count": 22,
   "metadata": {},
   "outputs": [
    {
     "name": "stdout",
     "output_type": "stream",
     "text": [
      "48\n",
      "190\n"
     ]
    }
   ],
   "source": [
    "print(len(subjects_adj))\n",
    "print(len(subjects_labels))"
   ]
  },
  {
   "cell_type": "code",
   "execution_count": 27,
   "metadata": {},
   "outputs": [
    {
     "name": "stdout",
     "output_type": "stream",
     "text": [
      "GSRNet(\n",
      "  (layer): GSRLayer()\n",
      "  (net): GraphUnet(\n",
      "    (start_gcn): GCN(\n",
      "      (proj): Linear(in_features=160, out_features=320, bias=True)\n",
      "      (drop): Dropout(p=0, inplace=False)\n",
      "    )\n",
      "    (bottom_gcn): GCN(\n",
      "      (proj): Linear(in_features=320, out_features=320, bias=True)\n",
      "      (drop): Dropout(p=0, inplace=False)\n",
      "    )\n",
      "    (end_gcn): GCN(\n",
      "      (proj): Linear(in_features=640, out_features=320, bias=True)\n",
      "      (drop): Dropout(p=0, inplace=False)\n",
      "    )\n",
      "  )\n",
      "  (gc1): GraphConvolution()\n",
      "  (gc2): GraphConvolution()\n",
      ")\n",
      "Epoch:  1 Loss:  0.0407714622683431 Error:  4.022855664554395 %\n",
      "Epoch:  2 Loss:  0.037661418563833364 Error:  3.715254518350488 %\n",
      "Epoch:  3 Loss:  0.03597334238063348 Error:  3.550805362235559 %\n",
      "Epoch:  4 Loss:  0.03484366133220886 Error:  3.4377332923835833 %\n",
      "Epoch:  5 Loss:  0.033975576393698394 Error:  3.3505304912595375 %\n",
      "0.03379452973604202\n",
      "0.038027070462703705\n",
      "0.028532225638628006\n",
      "0.034788038581609726\n",
      "0.03315906971693039\n",
      "0.03544401004910469\n",
      "0.04250426962971687\n",
      "0.030284859240055084\n",
      "0.03220796585083008\n",
      "0.03865975886583328\n",
      "Test error MSE:  0.034740179777145386\n",
      "Epoch:  1 Loss:  0.034198843334850515 Error:  3.370534187476886 %\n",
      "Epoch:  2 Loss:  0.03318537154087895 Error:  3.2681326381862164 %\n",
      "Epoch:  3 Loss:  0.03240767606583081 Error:  3.190518464697035 %\n",
      "Epoch:  4 Loss:  0.03182118783067716 Error:  3.1314755299765817 %\n",
      "Epoch:  5 Loss:  0.03131902717838162 Error:  3.0805778640665507 %\n",
      "0.03531838208436966\n",
      "0.04317377135157585\n",
      "0.026005983352661133\n",
      "0.030545322224497795\n",
      "0.02879299595952034\n",
      "0.030598174780607224\n",
      "0.030048465356230736\n",
      "0.03567655012011528\n",
      "0.027502628043293953\n",
      "0.030417900532484055\n",
      "Test error MSE:  0.031808017380535604\n",
      "Epoch:  1 Loss:  0.03176236863395101 Error:  3.1231723137592016 %\n",
      "Epoch:  2 Loss:  0.0312142078029482 Error:  3.0675918746151423 %\n",
      "Epoch:  3 Loss:  0.030768084977018207 Error:  3.0231445439552007 %\n",
      "Epoch:  4 Loss:  0.030406049452722073 Error:  2.987185914657618 %\n",
      "Epoch:  5 Loss:  0.03007672187921248 Error:  2.9545539058744907 %\n",
      "0.03310393542051315\n",
      "0.02850288711488247\n",
      "0.030372824519872665\n",
      "0.031630970537662506\n",
      "0.024139923974871635\n",
      "0.0278150774538517\n",
      "0.0258647333830595\n",
      "0.028466999530792236\n",
      "0.028452875092625618\n",
      "0.03743927553296089\n",
      "Test error MSE:  0.029578950256109238\n",
      "Epoch:  1 Loss:  0.02956102583079766 Error:  2.903781969768879 %\n",
      "Epoch:  2 Loss:  0.02915655859769919 Error:  2.863937110090867 %\n",
      "Epoch:  3 Loss:  0.028831491437860023 Error:  2.8323143290785646 %\n",
      "Epoch:  4 Loss:  0.0285491980612278 Error:  2.804819656870304 %\n",
      "Epoch:  5 Loss:  0.028306048029126264 Error:  2.781204220194083 %\n",
      "0.03458179533481598\n",
      "0.02625761739909649\n",
      "0.028615165501832962\n",
      "0.02911260724067688\n",
      "0.030031418427824974\n",
      "0.028470315039157867\n",
      "0.04979245737195015\n",
      "0.03142346069216728\n",
      "0.024555766955018044\n",
      "Test error MSE:  0.03142673377361563\n",
      "Epoch:  1 Loss:  0.02861826160015204 Error:  2.8110155787987585 %\n",
      "Epoch:  2 Loss:  0.02824003755664214 Error:  2.7745516922993536 %\n",
      "Epoch:  3 Loss:  0.02797825811192011 Error:  2.7497675938483996 %\n",
      "Epoch:  4 Loss:  0.027752256211944114 Error:  2.728299705837017 %\n",
      "Epoch:  5 Loss:  0.0275531991934165 Error:  2.7095374579613027 %\n",
      "0.025269662961363792\n",
      "0.027312830090522766\n",
      "0.027776895090937614\n",
      "0.04420669004321098\n",
      "0.031708694994449615\n",
      "0.02254624105989933\n",
      "0.029137974604964256\n",
      "0.035325147211551666\n",
      "0.02897283434867859\n",
      "Test error MSE:  0.030250774489508733\n"
     ]
    }
   ],
   "source": [
    "print(model)\n",
    "optimizer = optim.Adam(model.parameters(), lr=args.lr)\n",
    "\n",
    "for train_index, test_index in cv.split(subjects_adj):\n",
    "    subjects_adj_train = subjects_adj[train_index]  # Get training data \n",
    "    subjects_adj_test = subjects_adj[test_index]   # Get testing data \n",
    "    subjects_ground_truth_train = subjects_labels[train_index]\n",
    "    subjects_ground_truth_test = subjects_labels[test_index]\n",
    "\n",
    "    train(model, optimizer, subjects_adj_train, subjects_ground_truth_train, args)\n",
    "    test(model, subjects_adj_test, subjects_ground_truth_test, args)"
   ]
  }
 ],
 "metadata": {
  "kernelspec": {
   "display_name": ".venv",
   "language": "python",
   "name": "python3"
  },
  "language_info": {
   "codemirror_mode": {
    "name": "ipython",
    "version": 3
   },
   "file_extension": ".py",
   "mimetype": "text/x-python",
   "name": "python",
   "nbconvert_exporter": "python",
   "pygments_lexer": "ipython3",
   "version": "3.10.12"
  }
 },
 "nbformat": 4,
 "nbformat_minor": 2
}
