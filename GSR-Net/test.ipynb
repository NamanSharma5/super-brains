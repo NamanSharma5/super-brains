{
 "cells": [
  {
   "cell_type": "code",
   "execution_count": 1,
   "metadata": {},
   "outputs": [],
   "source": [
    "from preprocessing import *\n",
    "from sklearn.model_selection import KFold\n",
    "import argparse\n",
    "from model import *\n",
    "from train import test\n",
    "import torch.optim as optim\n",
    "import pandas as pd\n",
    "\n",
    "from MatrixVectorizer import *\n",
    "import networkx as nx\n",
    "from typing import Union\n"
   ]
  },
  {
   "cell_type": "code",
   "execution_count": 2,
   "metadata": {},
   "outputs": [],
   "source": [
    "# load csvs as numpy\n",
    "lr_data_path = '../data/lr_train.csv'\n",
    "hr_data_path = '../data/hr_train.csv'\n",
    "\n",
    "lr_train_data = pd.read_csv(lr_data_path, delimiter=',').to_numpy()\n",
    "hr_train_data = pd.read_csv(hr_data_path, delimiter=',').to_numpy()\n",
    "lr_train_data[lr_train_data < 0] = 0\n",
    "np.nan_to_num(lr_train_data, copy=False)\n",
    "\n",
    "hr_train_data[hr_train_data < 0] = 0\n",
    "np.nan_to_num(hr_train_data, copy=False)\n",
    "\n",
    "# map the anti-vectorize function to each row of the lr_train_data\n",
    "\n",
    "lr_train_data_vectorized = np.array([MatrixVectorizer.anti_vectorize(row, 160) for row in lr_train_data])\n",
    "hr_train_data_vectorized = np.array([MatrixVectorizer.anti_vectorize(row, 268) for row in hr_train_data])\n",
    "\n",
    "num_samples = hr_train_data_vectorized.shape[0]\n",
    "num_samples_list = range(num_samples)\n",
    "sample_to_index = dict(zip(num_samples_list, hr_train_data_vectorized))\n",
    "\n",
    "split = int(num_samples * 0.8)"
   ]
  },
  {
   "cell_type": "code",
   "execution_count": 3,
   "metadata": {},
   "outputs": [
    {
     "name": "stdout",
     "output_type": "stream",
     "text": [
      "torch.Size([1, 160, 160]) torch.Size([1, 268, 268])\n"
     ]
    }
   ],
   "source": [
    "lr_train_data_vectorized = torch.tensor(lr_train_data_vectorized, dtype=torch.float32)\n",
    "hr_train_data_vectorized = torch.tensor(hr_train_data_vectorized, dtype=torch.float32)\n",
    "\n",
    "from torch.utils.data import Dataset\n",
    "\n",
    "class NoisyDataset(Dataset):\n",
    "    def __init__(self, lr_data, hr_data, noise_level=0.01):\n",
    "        \"\"\"\n",
    "        lr_data: Low resolution data (torch.tensor)\n",
    "        hr_data: High resolution data (torch.tensor)\n",
    "        noise_level: Standard deviation of Gaussian noise to be added\n",
    "        \"\"\"\n",
    "        self.lr_data = lr_data\n",
    "        self.hr_data = hr_data\n",
    "        self.noise_level = noise_level\n",
    "\n",
    "    def __len__(self):\n",
    "        return len(self.lr_data)\n",
    "\n",
    "    def __getitem__(self, idx):\n",
    "        lr_sample = self.lr_data[idx]\n",
    "        hr_sample = self.hr_data[idx]\n",
    "\n",
    "        # Adding Gaussian noise\n",
    "        noise = torch.randn(lr_sample.size()) * self.noise_level\n",
    "        noisy_lr_sample = lr_sample + noise\n",
    "\n",
    "        # Clipping to ensure values are between 0 and 1\n",
    "        noisy_lr_sample = torch.clamp(noisy_lr_sample, 0, 1)\n",
    "\n",
    "        return noisy_lr_sample, hr_sample\n",
    "\n",
    "train_data = NoisyDataset(lr_train_data_vectorized, hr_train_data_vectorized, noise_level=0.5)\n",
    "\n",
    "train_data_loader = torch.utils.data.DataLoader(train_data, batch_size=1, shuffle=True)\n",
    "sample = next(iter(train_data_loader))\n",
    "print(sample[0].shape, sample[1].shape)"
   ]
  },
  {
   "cell_type": "code",
   "execution_count": 4,
   "metadata": {},
   "outputs": [],
   "source": [
    "\n",
    "subjects_adj,subjects_labels = lr_train_data_vectorized[:split], hr_train_data_vectorized[:split]\n",
    "\n",
    "held_out_subjects_adj,held_out_subjects_labels = lr_train_data_vectorized[split:], hr_train_data_vectorized[split:]"
   ]
  },
  {
   "cell_type": "code",
   "execution_count": 5,
   "metadata": {},
   "outputs": [],
   "source": [
    "num_splt = 3\n",
    "epochs = 50\n",
    "lr = 0.00005 # try [0.0001, 0.0005, 0.00001, 0.00005]\n",
    "lmbda = 17 # should be around 15-20\n",
    "lamdba_topo = 1 # should be around 0.5-1.5\n",
    "lr_dim = 160\n",
    "hr_dim = 320\n",
    "hidden_dim = 320 # try smaller and larger - [160-512]\n",
    "padding = 26\n",
    "dropout = 0.1 # try [0., 0.1, 0.2, 0.3]\n",
    "args = argparse.Namespace()\n",
    "args.epochs = epochs\n",
    "args.lr = lr\n",
    "args.lmbda = lmbda\n",
    "args.lamdba_topo = lamdba_topo\n",
    "args.lr_dim = lr_dim\n",
    "args.hr_dim = hr_dim\n",
    "args.hidden_dim = hidden_dim\n",
    "args.padding = padding\n",
    "args.p = dropout\n"
   ]
  },
  {
   "cell_type": "code",
   "execution_count": 6,
   "metadata": {},
   "outputs": [],
   "source": [
    "cv = KFold(n_splits=3, random_state=42, shuffle=True)"
   ]
  },
  {
   "cell_type": "code",
   "execution_count": 7,
   "metadata": {},
   "outputs": [],
   "source": [
    "ks = [0.9, 0.7, 0.6, 0.5]\n",
    "model = GSRNet(ks, args)"
   ]
  },
  {
   "cell_type": "code",
   "execution_count": 8,
   "metadata": {},
   "outputs": [],
   "source": [
    "# precompute topological measures for hr_train_data_vectorized\n",
    "# precomputed_measures = precompute_topological_measures(hr_train_data_vectorized)"
   ]
  },
  {
   "cell_type": "code",
   "execution_count": 9,
   "metadata": {},
   "outputs": [],
   "source": [
    "import time\n",
    "criterion = nn.L1Loss()\n",
    "\n",
    "def train(model, optimizer, subjects_adj,subjects_labels, args): \n",
    "  \n",
    "  all_epochs_loss = []\n",
    "  no_epochs = args.epochs\n",
    "\n",
    "  for epoch in range(no_epochs):\n",
    "    epoch_loss = []\n",
    "    epoch_error = []\n",
    "    epoch_topo = []\n",
    "\n",
    "    model.train()\n",
    "    for lr, hr in train_data_loader:      \n",
    "      lr = lr.reshape(160, 160)\n",
    "      hr = hr.reshape(268, 268)\n",
    "\n",
    "      model_outputs,net_outs,start_gcn_outs,layer_outs = model(lr)\n",
    "      model_outputs  = unpad(model_outputs, args.padding)\n",
    "\n",
    "      padded_hr = pad_HR_adj(hr,args.padding)\n",
    "      eig_val_hr, U_hr = torch.linalg.eigh(padded_hr, UPLO='U')\n",
    "\n",
    "      loss = args.lmbda * criterion(net_outs, start_gcn_outs) + criterion(model.layer.weights,U_hr) + criterion(model_outputs, hr) \n",
    "      start_time = time.time()\n",
    "\n",
    "      topo = args.lamdba_topo * compute_topological_MAE_loss(hr, model_outputs)\n",
    "\n",
    "      error = criterion(model_outputs, hr)\n",
    "      \n",
    "      optimizer.zero_grad()\n",
    "      loss.backward()\n",
    "      optimizer.step()\n",
    "\n",
    "      epoch_loss.append(loss.item())\n",
    "      epoch_error.append(error.item())\n",
    "      epoch_topo.append(topo.item())\n",
    "      \n",
    "  \n",
    "    model.eval()\n",
    "    print(\"Epoch: \",epoch+1, \"Loss: \", np.mean(epoch_loss), \"Error: \", np.mean(epoch_error),\n",
    "          \"Topo: \", np.mean(epoch_topo))\n",
    "    all_epochs_loss.append(np.mean(epoch_loss))"
   ]
  },
  {
   "cell_type": "code",
   "execution_count": 10,
   "metadata": {},
   "outputs": [],
   "source": [
    "# # print(model)\n",
    "# optimizer = optim.Adam(model.parameters(), lr=args.lr)\n",
    "# # optimizer = optim.SGD(model.parameters(), lr=args.lr)\n",
    "\n",
    "# for train_index, test_index in cv.split(subjects_adj):\n",
    "#     subjects_adj_train = subjects_adj[train_index]  # Get training data \n",
    "#     subjects_adj_test = subjects_adj[test_index]   # Get testing data \n",
    "#     subjects_ground_truth_train = subjects_labels[train_index]\n",
    "#     subjects_ground_truth_test = subjects_labels[test_index]\n",
    "\n",
    "#     train(model, optimizer, subjects_adj_train, subjects_ground_truth_train, args, subjects_adj_test, subjects_ground_truth_test)\n",
    "    \n",
    "#     print('Held out test score:')\n",
    "#     test(model, held_out_subjects_adj, held_out_subjects_labels, args)\n",
    "#     print('------------------------------')"
   ]
  },
  {
   "cell_type": "markdown",
   "metadata": {},
   "source": [
    "# Final Model & Kaggle Submission"
   ]
  },
  {
   "cell_type": "code",
   "execution_count": 11,
   "metadata": {},
   "outputs": [
    {
     "name": "stdout",
     "output_type": "stream",
     "text": [
      "Epoch:  1 Loss:  3.029073493923256 Error:  0.20921504310148206 Topo:  38.00805455053638\n",
      "Epoch:  2 Loss:  2.7525105490655957 Error:  0.1808784367617019 Topo:  20.92716292421261\n",
      "Epoch:  3 Loss:  2.611178700795431 Error:  0.17738783627213117 Topo:  20.313580587238608\n",
      "Epoch:  4 Loss:  2.4653049143488537 Error:  0.1751270353972555 Topo:  19.29350514326267\n",
      "Epoch:  5 Loss:  2.3236586647833177 Error:  0.17397132783592817 Topo:  19.029875098588224\n",
      "Epoch:  6 Loss:  2.179130302931734 Error:  0.17284518078772607 Topo:  18.8364652587982\n",
      "Epoch:  7 Loss:  2.034163193074529 Error:  0.17171803705706568 Topo:  18.905736066624076\n",
      "Epoch:  8 Loss:  1.8872685196870815 Error:  0.1707447043614473 Topo:  18.73559332179452\n",
      "Epoch:  9 Loss:  1.7399358185465463 Error:  0.1692367671671028 Topo:  18.52023202930382\n",
      "Epoch:  10 Loss:  1.59193136663494 Error:  0.16810988773128943 Topo:  18.322864949346304\n",
      "Epoch:  11 Loss:  1.443823534571482 Error:  0.16699420620581348 Topo:  18.556593894958496\n",
      "Epoch:  12 Loss:  1.2946540552698924 Error:  0.16540830105007764 Topo:  18.29388358064754\n",
      "Epoch:  13 Loss:  1.145780420588876 Error:  0.16408542253657016 Topo:  18.367754839137643\n",
      "Epoch:  14 Loss:  0.9967042543217094 Error:  0.16281685884484273 Topo:  18.242232893755336\n",
      "Epoch:  15 Loss:  0.8493651662044183 Error:  0.1616722083020353 Topo:  18.368169704597154\n",
      "Epoch:  16 Loss:  0.703486909766397 Error:  0.16021078932071162 Topo:  18.190915004935807\n",
      "Epoch:  17 Loss:  0.5644852033632244 Error:  0.1592661413603914 Topo:  18.246800736752814\n",
      "Epoch:  18 Loss:  0.4402349971368641 Error:  0.15816495545253068 Topo:  18.10501887841139\n",
      "Epoch:  19 Loss:  0.34990096502675266 Error:  0.15714375469499006 Topo:  18.08322644376469\n",
      "Epoch:  20 Loss:  0.29725960985629146 Error:  0.15628565196505564 Topo:  18.161086031062876\n",
      "Epoch:  21 Loss:  0.268903092888301 Error:  0.15556467703716484 Topo:  18.08658511909896\n",
      "Epoch:  22 Loss:  0.25393999818556323 Error:  0.15460547412227013 Topo:  17.99495549116306\n",
      "Epoch:  23 Loss:  0.245238672919616 Error:  0.15401459329142542 Topo:  18.01303475773977\n",
      "Epoch:  24 Loss:  0.23891407706423434 Error:  0.15304075190407074 Topo:  17.779994810412745\n",
      "Epoch:  25 Loss:  0.23411241146975648 Error:  0.15223460791710608 Topo:  17.800887456197223\n",
      "Epoch:  26 Loss:  0.23026003113049948 Error:  0.15176721773818583 Topo:  17.689563848301322\n",
      "Epoch:  27 Loss:  0.22685631663499478 Error:  0.15111937360492295 Topo:  17.64598496374256\n",
      "Epoch:  28 Loss:  0.22420837618633657 Error:  0.1506310364978756 Topo:  17.523616470976503\n",
      "Epoch:  29 Loss:  0.22128500017577302 Error:  0.14970283344120322 Topo:  17.30084349009805\n",
      "Epoch:  30 Loss:  0.21910335516144416 Error:  0.14905763261332483 Topo:  17.129830748735074\n",
      "Epoch:  31 Loss:  0.21717693964521328 Error:  0.1484591143127687 Topo:  17.035868530501862\n",
      "Epoch:  32 Loss:  0.2155478281710676 Error:  0.14804840592031707 Topo:  16.91940207681256\n",
      "Epoch:  33 Loss:  0.21424078932422363 Error:  0.14752502708199494 Topo:  16.73859488892698\n",
      "Epoch:  34 Loss:  0.2128005070600681 Error:  0.14698858398520304 Topo:  16.638101760498778\n",
      "Epoch:  35 Loss:  0.21155595663421883 Error:  0.1464678613457851 Topo:  16.418725619059124\n",
      "Epoch:  36 Loss:  0.21071623997417038 Error:  0.14617682382196723 Topo:  16.417768512657304\n",
      "Epoch:  37 Loss:  0.21015925553744425 Error:  0.1460664755480732 Topo:  16.491737879678876\n",
      "Epoch:  38 Loss:  0.20878581488560774 Error:  0.14546087031771324 Topo:  16.27879940535494\n",
      "Epoch:  39 Loss:  0.2083328445692976 Error:  0.14500351611547127 Topo:  16.155976375419936\n",
      "Epoch:  40 Loss:  0.20704655260026097 Error:  0.14447503412019708 Topo:  15.894439817188742\n",
      "Epoch:  41 Loss:  0.20653625180621346 Error:  0.14424312172714107 Topo:  15.879864298654887\n",
      "Epoch:  42 Loss:  0.20623378625173056 Error:  0.144095336471846 Topo:  15.902245652889777\n",
      "Epoch:  43 Loss:  0.20584421600410324 Error:  0.14392112498868725 Topo:  15.840397086686004\n",
      "Epoch:  44 Loss:  0.2056788462186288 Error:  0.14396445734236768 Topo:  15.96426356766752\n",
      "Epoch:  45 Loss:  0.20502042600851572 Error:  0.1437634005250331 Topo:  15.870333682991074\n",
      "Epoch:  46 Loss:  0.20424363579221827 Error:  0.14349306017874244 Topo:  15.819716750504728\n",
      "Epoch:  47 Loss:  0.20338768213095065 Error:  0.14324192104939215 Topo:  15.707367714293703\n",
      "Epoch:  48 Loss:  0.20343633147770773 Error:  0.14310329768829003 Topo:  15.731351064350791\n",
      "Epoch:  49 Loss:  0.2031765807710008 Error:  0.14329661179088546 Topo:  15.863821589304301\n",
      "Epoch:  50 Loss:  0.20269486879160303 Error:  0.14272728888039105 Topo:  15.665260297809532\n"
     ]
    }
   ],
   "source": [
    "#final train\n",
    "final_model = GSRNet(ks, args)\n",
    "optimizer = optim.Adam(final_model.parameters(), lr=args.lr)\n",
    "\n",
    "train(final_model, optimizer, lr_train_data_vectorized, hr_train_data_vectorized, args)"
   ]
  },
  {
   "cell_type": "code",
   "execution_count": 12,
   "metadata": {},
   "outputs": [
    {
     "name": "stdout",
     "output_type": "stream",
     "text": [
      "(112, 12720)\n",
      "(112, 160, 160)\n"
     ]
    }
   ],
   "source": [
    "#Generate submission \n",
    "\n",
    "# load csvs as numpy\n",
    "test_lr_data_path = '../data/lr_test.csv'\n",
    "\n",
    "# lr_test_data = np.loadtxt(test_lr_data_path, delimiter=',')\n",
    "lr_test_data = pd.read_csv(test_lr_data_path, delimiter=',').to_numpy()\n",
    "print(lr_test_data.shape)\n",
    "lr_test_data[lr_test_data < 0] = 0\n",
    "np.nan_to_num(lr_test_data, copy=False)\n",
    "\n",
    "\n",
    "# map the anti-vectorize function to each row of the lr_train_data\n",
    "\n",
    "lr_test_data_vectorized = np.array([MatrixVectorizer.anti_vectorize(row, 160) for row in lr_test_data])\n",
    "print(lr_test_data_vectorized.shape)"
   ]
  },
  {
   "cell_type": "code",
   "execution_count": 13,
   "metadata": {},
   "outputs": [
    {
     "name": "stdout",
     "output_type": "stream",
     "text": [
      "112 (35778,)\n",
      "(4007136,)\n"
     ]
    }
   ],
   "source": [
    "final_model.eval()\n",
    "preds = []\n",
    "for lr in lr_test_data_vectorized:      \n",
    "  lr = torch.from_numpy(lr).type(torch.FloatTensor)\n",
    "  \n",
    "  model_outputs, _, _, _ = final_model(lr)\n",
    "  model_outputs  = unpad(model_outputs, args.padding)\n",
    "  preds.append(MatrixVectorizer.vectorize(model_outputs.detach().numpy()))\n",
    "\n",
    "print(len(preds), preds[0].shape)\n",
    "r = np.hstack(preds)\n",
    "print(r.shape)\n",
    "meltedDF = r.flatten()"
   ]
  },
  {
   "cell_type": "code",
   "execution_count": 14,
   "metadata": {},
   "outputs": [],
   "source": [
    "n = meltedDF.shape[0]\n",
    "df = pd.DataFrame({'ID': np.arange(1, n+1),\n",
    "                   'Predicted': meltedDF})\n",
    "df.to_csv('submission.csv', index=False)"
   ]
  }
 ],
 "metadata": {
  "kernelspec": {
   "display_name": ".venv",
   "language": "python",
   "name": "python3"
  },
  "language_info": {
   "codemirror_mode": {
    "name": "ipython",
    "version": 3
   },
   "file_extension": ".py",
   "mimetype": "text/x-python",
   "name": "python",
   "nbconvert_exporter": "python",
   "pygments_lexer": "ipython3",
   "version": "3.10.0"
  }
 },
 "nbformat": 4,
 "nbformat_minor": 2
}
