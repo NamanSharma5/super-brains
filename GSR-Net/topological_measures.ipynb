{
 "cells": [
  {
   "cell_type": "code",
   "execution_count": null,
   "metadata": {},
   "outputs": [],
   "source": [
    "import numpy as np\n",
    "from MatrixVectorizer import *\n",
    "from typing import Union\n",
    "import torch\n",
    "import networkx as nx"
   ]
  },
  {
   "cell_type": "code",
   "execution_count": null,
   "metadata": {},
   "outputs": [],
   "source": [
    "# load csvs as numpy\n",
    "lr_data_path = 'data/lr_train.csv'\n",
    "hr_data_path = 'data/hr_train.csv'\n",
    "\n",
    "lr_train_data = np.loadtxt(lr_data_path, delimiter=',')\n",
    "hr_train_data = np.loadtxt(hr_data_path, delimiter=',')\n",
    "lr_train_data[lr_train_data < 0] = 0\n",
    "np.nan_to_num(lr_train_data, copy=False)\n",
    "\n",
    "hr_train_data[hr_train_data < 0] = 0\n",
    "np.nan_to_num(hr_train_data, copy=False)\n",
    "\n",
    "# map the anti-vectorize function to each row of the lr_train_data\n",
    "\n",
    "lr_train_data_vectorized = np.array([MatrixVectorizer.anti_vectorize(row, 160) for row in lr_train_data])\n",
    "hr_train_data_vectorized = np.array([MatrixVectorizer.anti_vectorize(row, 260) for row in hr_train_data])"
   ]
  },
  {
   "cell_type": "code",
   "execution_count": null,
   "metadata": {},
   "outputs": [],
   "source": [
    "class TopologicalMeasures:\n",
    "    def __init__(self,graph:Union[np.ndarray,torch.Tensor]):\n",
    "        if isinstance(graph,np.ndarray):\n",
    "            self.graph = nx.Graph(graph)\n",
    "        elif isinstance(graph,torch.Tensor):\n",
    "            graph_numpy = graph.cpu().detach().numpy()\n",
    "            self.graph = nx.Graph(graph_numpy)\n",
    "\n",
    "    def compute_measures(self):\n",
    "        self.measures = {}\n",
    "        measures['degree'] = dict(self.graph.degree())\n",
    "        measures['clustering'] = nx.clustering(self.graph)\n",
    "        measures['closeness'] = nx.closeness_centrality(self.graph)\n",
    "        measures['betweenness'] = nx.betweenness_centrality(self.graph)\n",
    "        measures['pagerank'] = nx.pagerank(self.graph)\n",
    "        measures['eigenvector'] = nx.eigenvector_centrality(self.graph)\n",
    "        return measures\n",
    "\n",
    "    @staticmethod\n",
    "    def compute_topological_MAE_loss(graph1:Union[np.ndarray,torch.Tensor],graph2:Union[np.ndarray,torch.Tensor]):\n",
    "        measures1 = TopologicalMeasures(graph1).compute_measures()\n",
    "        measures2 = TopologicalMeasures(graph2).compute_measures()\n",
    "        loss = 0\n",
    "        # compute MAE for each measure\n",
    "        \n",
    "        for measure in measures1:\n",
    "            loss += np.abs(measures1[measure] - measures2[measure])\n",
    "        loss = loss/len(measures1)\n",
    "\n",
    "        return loss"
   ]
  }
 ],
 "metadata": {
  "language_info": {
   "name": "python"
  }
 },
 "nbformat": 4,
 "nbformat_minor": 2
}
